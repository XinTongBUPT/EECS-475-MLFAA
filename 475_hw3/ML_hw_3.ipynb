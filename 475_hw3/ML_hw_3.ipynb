{
 "cells": [
  {
   "cell_type": "markdown",
   "metadata": {},
   "source": [
    "Please perform the following exercises, each of which is worth $10$ points.  The instructions for most can be found at the end of the Chapter notes, however several include additional information / starter code which is provided below.  **Use the version of the chapter notes included in this homework folder to complete the exercises.**"
   ]
  },
  {
   "cell_type": "markdown",
   "metadata": {},
   "source": [
    " - **Chapter 9:** Exercise 2\n",
    " \n",
    " - **Chapter 10:** Exercises 1,2, and 9"
   ]
  },
  {
   "cell_type": "markdown",
   "metadata": {},
   "source": [
    "# Exercise 9.2: MNIST classification: pixels vs edge-based features"
   ]
  },
  {
   "cell_type": "markdown",
   "metadata": {},
   "source": [
    "Load in data."
   ]
  },
  {
   "cell_type": "code",
   "execution_count": 46,
   "metadata": {},
   "outputs": [
    {
     "name": "stdout",
     "output_type": "stream",
     "text": [
      "input shape =  (784, 70000)\n",
      "output shape =  (1, 70000)\n"
     ]
    }
   ],
   "source": [
    "from autograd import numpy as np\n",
    "from autograd import grad\n",
    "from sklearn.datasets import fetch_mldata\n",
    "import matplotlib.pyplot as plt\n",
    "# Change data_home to wherever to where you want to download your data\n",
    "mnist = fetch_mldata('MNIST original')\n",
    "\n",
    "# strip off input / output pairs\n",
    "x = mnist.data.T\n",
    "y = mnist.target[np.newaxis,:]\n",
    "\n",
    "print(\"input shape = \" , x.shape)\n",
    "print(\"output shape = \", y.shape)"
   ]
  },
  {
   "cell_type": "markdown",
   "metadata": {},
   "source": [
    "Randomly sample input / output pairs."
   ]
  },
  {
   "cell_type": "code",
   "execution_count": 47,
   "metadata": {
    "collapsed": true
   },
   "outputs": [],
   "source": [
    "# sample indices\n",
    "num_sample = 50000\n",
    "inds = np.random.permutation(y.shape[1])[:num_sample]\n",
    "x_sample = x[:,inds]\n",
    "y_sample = y[:,inds]"
   ]
  },
  {
   "cell_type": "markdown",
   "metadata": {},
   "source": [
    "Use a backend file to extract edge-based histogram features from the raw input."
   ]
  },
  {
   "cell_type": "code",
   "execution_count": 48,
   "metadata": {},
   "outputs": [
    {
     "name": "stdout",
     "output_type": "stream",
     "text": [
      "shape of original input  (784, 50000)\n",
      "shape of transformed input  (1352, 50000)\n"
     ]
    }
   ],
   "source": [
    "# extract edge-based features\n",
    "import data_transformer\n",
    "x_sample_edgebased_features = data_transformer.edge_transformer(x_sample)   \n",
    "\n",
    "print('shape of original input ', x_sample.shape)\n",
    "print('shape of transformed input ', x_sample_edgebased_features.shape)"
   ]
  },
  {
   "cell_type": "markdown",
   "metadata": {},
   "source": [
    "# Exercise 10.1: Modeling a wave"
   ]
  },
  {
   "cell_type": "code",
   "execution_count": 49,
   "metadata": {},
   "outputs": [
    {
     "data": {
      "image/png": "[encoded data removed]",
      "text/plain": [
       "<matplotlib.figure.Figure at 0x10e8de400>"
      ]
     },
     "metadata": {},
     "output_type": "display_data"
    }
   ],
   "source": [
    "# libraries\n",
    "from autograd import numpy as np\n",
    "\n",
    "# import the dataset\n",
    "csvname = 'datasets/' + 'noisy_sin_sample.csv'\n",
    "data = np.loadtxt(csvname,delimiter=',')\n",
    "\n",
    "# cut into input/output data\n",
    "x = data[0:-1,:]\n",
    "y = data[-1:,:]\n",
    "w=np.array([0.1*np.random.randn(2,1),0.1*np.random.randn(2,1)])\n",
    "\n",
    "def least_squares(w):\n",
    "    cost=np.sum((model(x,w)-y)**2)\n",
    "    return cost/float(x.size)\n",
    "\n",
    "def model(x,w):\n",
    "    # feature transformation\n",
    "    f = feature_transforms(x,w[0])\n",
    "    # compute linear combination and return\n",
    "    a = w[1][0] + np.dot(f.T,w[1][1:]) \n",
    "    return a.T\n",
    "\n",
    "def gradient_descent(g,alpha,max_its,w):\n",
    "    # compute gradient module using autograd\n",
    "    gradient = grad(g)\n",
    "    # run the gradient descent loop\n",
    "    weight_history = [w] # weight history container\n",
    "    cost_history = [g(w)] # cost function history container\n",
    "    for k in range(max_its):\n",
    "        # evaluate the gradient\n",
    "        grad_eval = gradient(w)\n",
    "        # take gradient descent step\n",
    "        w = w - alpha*grad_eval    \n",
    "        # record weight and cost\n",
    "        weight_history.append(w)\n",
    "        cost_history.append(g(w))\n",
    "    return weight_history,cost_history\n",
    "\n",
    "def feature_transforms(x,w):\n",
    "    # calculate feature transform\n",
    "    f = np.sin(w[0] + np.dot(x.T,w[1:])).T \n",
    "    return f\n",
    "\n",
    "w_h,c_h=gradient_descent(least_squares,0.1,4000,w)\n",
    "\n",
    "\n",
    "a = np.arange(0, 1, 0.01)\n",
    "b = np.arange(0, 1, 0.01)\n",
    "i =0\n",
    "for j in a:\n",
    "    b[i] = model(j,w_h[-1])\n",
    "    i = i+1\n",
    "plt.scatter(x,y,linewidth = 1)\n",
    "plt.plot(a,b,color = 'r')\n",
    "\n",
    "plt.show()\n"
   ]
  },
  {
   "cell_type": "markdown",
   "metadata": {
    "slideshow": {
     "slide_type": "slide"
    }
   },
   "source": [
    "# Exercise 10.2: Modeling population growth"
   ]
  },
  {
   "cell_type": "code",
   "execution_count": 50,
   "metadata": {
    "slideshow": {
     "slide_type": "subslide"
    }
   },
   "outputs": [
    {
     "name": "stdout",
     "output_type": "stream",
     "text": [
      "(1, 19)\n"
     ]
    },
    {
     "data": {
      "image/png": "[encoded data removed]",
      "text/plain": [
       "<matplotlib.figure.Figure at 0x11437a710>"
      ]
     },
     "metadata": {},
     "output_type": "display_data"
    }
   ],
   "source": [
    "# libraries\n",
    "from autograd import numpy as np\n",
    "\n",
    "# import the dataset\n",
    "csvname = 'datasets/' + 'yeast.csv'\n",
    "data = np.loadtxt(csvname,delimiter=',')\n",
    "\n",
    "# cut into input/output data\n",
    "x = data[0:-1,:]\n",
    "y = data[-1:,:]\n",
    "\n",
    "#Normalize input\n",
    "x=(x-np.mean(x))/np.std(x)\n",
    "\n",
    "def model(x,w):\n",
    "    # feature transformation\n",
    "    f = feature_transforms(x,w[0])\n",
    "    # compute linear combination and return\n",
    "    a = w[1][0] + np.dot(f.T,w[1][1:]) \n",
    "    return a.T\n",
    "\n",
    "\n",
    "def feature_transforms(x,w):\n",
    "    # calculate feature transform\n",
    "    f = np.sin(w[0] + np.dot(x.T,w[1:])).T \n",
    "    return f\n",
    "\n",
    "\n",
    "def gradient_descent(g,alpha,max_its,w):\n",
    "    # compute gradient module using autograd\n",
    "    gradient = grad(g)\n",
    "    # run the gradient descent loop\n",
    "    weight_history = [w] # weight history container\n",
    "    cost_history = [g(w)] # cost function history container\n",
    "    for k in range(max_its):\n",
    "        # evaluate the gradient\n",
    "        grad_eval = gradient(w)\n",
    "        # take gradient descent step\n",
    "        w = w - alpha*grad_eval\n",
    "        # record weight and cost\n",
    "        weight_history.append(w)\n",
    "        cost_history.append(g(w))\n",
    "    return weight_history,cost_history\n",
    "\n",
    "def least_squares(w):\n",
    "    cost=np.sum((model(x,w)-y)**2)\n",
    "    return cost/float(x.size)\n",
    "\n",
    "w=np.array([0.1*np.random.randn(2,1),0.1*np.random.randn(2,1)])\n",
    "\n",
    "w_h,c_h=gradient_descent(least_squares,0.1,4000,w)\n",
    "print(model(x,w_h[-1]).shape)\n",
    "\n",
    "\n",
    "\n",
    "a = np.arange(-2, 1.5, 0.01)\n",
    "b = np.arange(-2, 1.5, 0.01)\n",
    "i =0\n",
    "for j in a:\n",
    "    b[i] = model(j,w_h[-1])\n",
    "    i = i+1\n",
    "plt.scatter(x,y,linewidth = 1)\n",
    "plt.plot(a,b,color = 'r')\n",
    "plt.show()"
   ]
  },
  {
   "cell_type": "markdown",
   "metadata": {},
   "source": [
    "# Exercise 10.9: A wavy multi-output dataset"
   ]
  },
  {
   "cell_type": "code",
   "execution_count": 51,
   "metadata": {},
   "outputs": [
    {
     "name": "stdout",
     "output_type": "stream",
     "text": [
      "9\n",
      "Misclassification num: 9\n",
      "Accuracy: 0.97\n"
     ]
    }
   ],
   "source": [
    "# libraries\n",
    "from autograd import numpy as np\n",
    "\n",
    "# import the dataset\n",
    "csvname = 'datasets/' + 'diagonal_stripes.csv'\n",
    "data = np.loadtxt(csvname,delimiter=',')\n",
    "\n",
    "# cut into input/output data\n",
    "x = data[0:-1,:]\n",
    "\n",
    "w=np.array([1.0,1.0,1.0,1.0])\n",
    "y = data[-1:,:]\n",
    "prediction=[]\n",
    "ans=[]\n",
    "def model(x,w):\n",
    "    sin1=np.sin(w[0]*x[0,:]+w[1]*x[1,:]+w[2])\n",
    "    a=w[3]+sin1\n",
    "    return a.T\n",
    "\n",
    "def gradient_descent(g,alpha,max_its,w):\n",
    "    # compute gradient module using autograd\n",
    "    gradient = grad(g)\n",
    "    # run the gradient descent loop\n",
    "    weight_history = [w] # weight history container\n",
    "    cost_history = [g(w)] # cost function history container\n",
    "    for k in range(max_its):\n",
    "        # evaluate the gradient\n",
    "        grad_eval = gradient(w)\n",
    "        # take gradient descent step\n",
    "        w = w - alpha*grad_eval\n",
    "        # record weight and cost\n",
    "        weight_history.append(w)\n",
    "        cost_history.append(g(w))\n",
    "    return weight_history,cost_history\n",
    "\n",
    "def softmax(w):\n",
    "    cost = np.sum(np.log(1 + np.exp(-y*model(x,w)))) \n",
    "    return cost/float(np.size(y))\n",
    "\n",
    "w_h,c=gradient_descent(softmax,0.02,3000,w)\n",
    "\n",
    "\n",
    "for i in range(0,300):\n",
    "    prediction.append(np.sign(model(x,w_h[-1])[i]))\n",
    "    ans.append(y[0][i])\n",
    "    \n",
    "mis=0\n",
    "for i in range(0,300):\n",
    "    if ans[i]!=prediction[i]:\n",
    "        mis+=1\n",
    "\n",
    "print('Misclassification num:',mis)\n",
    "print('Accuracy:', 1-mis/300)\n"
   ]
  },
  {
   "cell_type": "code",
   "execution_count": null,
   "metadata": {
    "collapsed": true
   },
   "outputs": [],
   "source": []
  }
 ],
 "metadata": {
  "kernelspec": {
   "display_name": "Python 3",
   "language": "python",
   "name": "python3"
  },
  "language_info": {
   "codemirror_mode": {
    "name": "ipython",
    "version": 3
   },
   "file_extension": ".py",
   "mimetype": "text/x-python",
   "name": "python",
   "nbconvert_exporter": "python",
   "pygments_lexer": "ipython3",
   "version": "3.6.2"
  }
 },
 "nbformat": 4,
 "nbformat_minor": 2
}
