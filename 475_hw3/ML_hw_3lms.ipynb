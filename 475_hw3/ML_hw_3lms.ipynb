{
 "cells": [
  {
   "cell_type": "markdown",
   "metadata": {},
   "source": [
    "Please perform the following exercises, each of which is worth $10$ points.  The instructions for most can be found at the end of the Chapter notes, however several include additional information / starter code which is provided below.  **Use the version of the chapter notes included in this homework folder to complete the exercises.**"
   ]
  },
  {
   "cell_type": "markdown",
   "metadata": {},
   "source": [
    " - **Chapter 9:** Exercise 2\n",
    " \n",
    " - **Chapter 10:** Exercises 1,2, and 9"
   ]
  },
  {
   "cell_type": "markdown",
   "metadata": {},
   "source": [
    "# Exercise 9.2: MNIST classification: pixels vs edge-based features"
   ]
  },
  {
   "cell_type": "markdown",
   "metadata": {},
   "source": [
    "Load in data."
   ]
  },
  {
   "cell_type": "code",
   "execution_count": 12,
   "metadata": {},
   "outputs": [
    {
     "name": "stdout",
     "output_type": "stream",
     "text": [
      "input shape =  (784, 70000)\n",
      "output shape =  (1, 70000)\n"
     ]
    }
   ],
   "source": [
    "from autograd import numpy as np\n",
    "from sklearn.datasets import fetch_mldata\n",
    "from autograd import numpy as np\n",
    "from autograd import grad \n",
    "import math\n",
    "import matplotlib.pyplot as plt\n",
    "# Change data_home to wherever to where you want to download your data\n",
    "mnist = fetch_mldata('MNIST original')\n",
    "\n",
    "# strip off input / output pairs\n",
    "x = mnist.data.T\n",
    "y = mnist.target[np.newaxis,:]\n",
    "\n",
    "print(\"input shape = \" , x.shape)\n",
    "print(\"output shape = \", y.shape)\n",
    "#print(y[:,5000:10000])"
   ]
  },
  {
   "cell_type": "markdown",
   "metadata": {},
   "source": [
    "Randomly sample input / output pairs."
   ]
  },
  {
   "cell_type": "code",
   "execution_count": null,
   "metadata": {
    "collapsed": true
   },
   "outputs": [],
   "source": [
    "# sample indices\n",
    "num_sample = 50000\n",
    "inds = np.random.permutation(y.shape[1])[:num_sample]\n",
    "x_sample = x[:,inds]\n",
    "y_sample = y[:,inds]\n",
    "w=np.zeros((785,10))\n",
    "w+=1\n",
    "def model(x,w):\n",
    "    a = w[0] + np.dot(x.T,w[1:])\n",
    "    return a.T\n",
    "lam = 10**-5  # our regularization paramter \n",
    "\n",
    "def gradient_descent(g,alpha,max_its,w):\n",
    "    # compute gradient module using autograd\n",
    "    gradient = grad(g)\n",
    "\n",
    "    # run the gradient descent loop\n",
    "    weight_history = [w] # weight history container\n",
    "    cost_history = [g(w)] # cost function history container\n",
    "    for k in range(max_its):\n",
    "        # evaluate the gradient\n",
    "        grad_eval = gradient(w)\n",
    "\n",
    "        # take gradient descent step\n",
    "        w = w - alpha*grad_eval\n",
    "        \n",
    "        # record weight and cost\n",
    "        weight_history.append(w)\n",
    "        cost_history.append(g(w))\n",
    "    return weight_history,cost_history\n",
    "\n",
    "def multiclass_perceptron(w):        \n",
    "    # pre-compute predictions on all points\n",
    "    all_evals = model(x_sample,w)\n",
    "    # compute maximum across data points\n",
    "    a = np.max(all_evals,axis = 0)    \n",
    "    # compute cost in compact form using numpy broadcasting\n",
    "    b = all_evals[y_sample.astype(int).flatten(),np.arange(np.size(y_sample))]\n",
    "    cost = np.sum(a - b)\n",
    "\n",
    "    # return average\n",
    "    return cost/float(np.size(y_sample))\n",
    "\n",
    "\n",
    "weight,cost=gradient_descent(multiclass_perceptron,0.1,100,w)\n",
    "\n",
    "\n",
    "\n",
    "def fusion_rule(x,w):\n",
    "    return np.argmax(model(x,w))\n",
    "\n",
    "result=[]\n",
    "for i in range(0,50000):\n",
    "    result.append(fusion_rule(x_sample[:,i],weight[-1]))\n",
    "\n",
    "\n",
    "error=0\n",
    "for i in range(0,50000):\n",
    "    if result[i]!=y_sample[0][i]:\n",
    "        error+=1\n",
    "    \n",
    "print(\"I use multiclass_peceptron classification scheme and due to the long running time,i set the iteration time as 100\")\n",
    "print(' And the number of error is',error)\n",
    "print('The accuracy is',(50000-error)/50000)\n",
    "\n",
    "\n"
   ]
  },
  {
   "cell_type": "markdown",
   "metadata": {},
   "source": [
    "Use a backend file to extract edge-based histogram features from the raw input."
   ]
  },
  {
   "cell_type": "code",
   "execution_count": 16,
   "metadata": {},
   "outputs": [
    {
     "name": "stdout",
     "output_type": "stream",
     "text": [
      "shape of original input  (784, 50000)\n",
      "shape of transformed input  (1352, 50000)\n",
      "I use multiclass_peceptron classification scheme and due to the long running time,i set the iteration time as 50\n",
      "And The number of error is 2055\n",
      "The accuracy is 0.9589\n"
     ]
    }
   ],
   "source": [
    "# extract edge-based features\n",
    "import data_transformer\n",
    "x_sample_edgebased_features = data_transformer.edge_transformer(x_sample)   \n",
    "\n",
    "print('shape of original input ', x_sample.shape)\n",
    "print('shape of transformed input ', x_sample_edgebased_features.shape)\n",
    "\n",
    "\n",
    "\n",
    "def multiclass_perceptron(w):        \n",
    "    # pre-compute predictions on all points\n",
    "    all_evals = model(x_sample_edgebased_features,w)\n",
    "    # compute maximum across data points\n",
    "    a = np.max(all_evals,axis = 0)    \n",
    "    # compute cost in compact form using numpy broadcasting\n",
    "    b = all_evals[y_sample.astype(int).flatten(),np.arange(np.size(y_sample))]\n",
    "    cost = np.sum(a - b)\n",
    "\n",
    "    # return average\n",
    "    return cost/float(np.size(y_sample))\n",
    "\n",
    "w=np.zeros((1353,10))\n",
    "w+=1\n",
    "weight,cost=gradient_descent(multiclass_perceptron,0.1,100,w)\n",
    "\n",
    "\n",
    "result=[]\n",
    "for i in range(0,50000):\n",
    "    result.append(fusion_rule(x_sample_edgebased_features[:,i],weight[-1]))\n",
    "\n",
    "\n",
    "error=0\n",
    "for i in range(0,50000):\n",
    "    if result[i]!=y_sample[0][i]:\n",
    "        error+=1\n",
    "        \n",
    "print(\"I use multiclass_peceptron classification scheme and due to the long running time,i set the iteration time as 50\")\n",
    "print('And The number of error is',error)\n",
    "print('The accuracy is',(50000-error)/50000)\n",
    "\n",
    "\n"
   ]
  },
  {
   "cell_type": "markdown",
   "metadata": {},
   "source": [
    "# Exercise 10.1: Modeling a wave"
   ]
  },
  {
   "cell_type": "code",
   "execution_count": 62,
   "metadata": {},
   "outputs": [
    {
     "name": "stdout",
     "output_type": "stream",
     "text": [
      "[[[-3.00225843]\n",
      "  [ 5.98295571]]\n",
      "\n",
      " [[ 0.01516978]\n",
      "  [-1.01502914]]]\n"
     ]
    },
    {
     "data": {
      "text/plain": [
       "[<matplotlib.lines.Line2D at 0x1a1800aa90>]"
      ]
     },
     "execution_count": 62,
     "metadata": {},
     "output_type": "execute_result"
    },
    {
     "data": {
      "image/png": "[encoded data removed]",
      "text/plain": [
       "<matplotlib.figure.Figure at 0x1136d3390>"
      ]
     },
     "metadata": {},
     "output_type": "display_data"
    }
   ],
   "source": [
    "# libraries\n",
    "from autograd import numpy as np\n",
    "import matplotlib.pyplot as plt\n",
    "# import the dataset\n",
    "csvname = 'datasets/' + 'noisy_sin_sample.csv'\n",
    "data = np.loadtxt(csvname,delimiter=',')\n",
    "\n",
    "# cut into input/output data\n",
    "x = data[0:-1,:]\n",
    "y = data[-1:,:]\n",
    "w=np.array([0.1*np.random.randn(2,1),0.1*np.random.randn(2,1)])\n",
    "\n",
    "def model(x,w):\n",
    "    # feature transformation\n",
    "    f = feature_transforms(x,w[0])\n",
    "    # compute linear combination and return\n",
    "    a = w[1][0] + np.dot(f.T,w[1][1:]) \n",
    "    return a.T\n",
    "\n",
    "\n",
    "def feature_transforms(x,w):\n",
    "    # calculate feature transform\n",
    "    f = np.sin(w[0] + np.dot(x.T,w[1:])).T \n",
    "    return f\n",
    "\n",
    "\n",
    "def gradient_descent(g,alpha,max_its,w):\n",
    "    # compute gradient module using autograd\n",
    "    gradient = grad(g)\n",
    "\n",
    "    # run the gradient descent loop\n",
    "    weight_history = [w] # weight history container\n",
    "    cost_history = [g(w)] # cost function history container\n",
    "    for k in range(max_its):\n",
    "        # evaluate the gradient\n",
    "        grad_eval = gradient(w)\n",
    "\n",
    "        # take gradient descent step\n",
    "        w = w - alpha*grad_eval\n",
    "        \n",
    "        # record weight and cost\n",
    "        weight_history.append(w)\n",
    "        cost_history.append(g(w))\n",
    "    return weight_history,cost_history\n",
    "\n",
    "def least_squares(w):\n",
    "    cost=np.sum((model(x,w)-y)**2)\n",
    "    return cost/float(x.size)\n",
    "\n",
    "weight,cost=gradient_descent(least_squares,0.1,5000,w)\n",
    "\n",
    "\n",
    "\n",
    "s = np.arange(0, 1, 0.01)\n",
    "t = np.arange(0, 1, 0.01)\n",
    "i =0\n",
    "for j in s:\n",
    "    t[i] = model(j,weight[-1])\n",
    "    i = i+1\n",
    "plt.scatter(x,y,linewidth = 1,color = 'b')\n",
    "plt.plot(s,t,color = 'r')\n",
    "\n",
    "\n",
    "\n",
    "\n",
    "\n",
    "\n",
    "\n",
    "\n",
    "\n",
    "\n",
    "\n",
    "\n",
    "\n",
    "\n",
    "\n",
    "\n",
    "\n",
    "\n",
    "\n",
    "\n"
   ]
  },
  {
   "cell_type": "markdown",
   "metadata": {
    "slideshow": {
     "slide_type": "slide"
    }
   },
   "source": [
    "# Exercise 10.2: Modeling population growth"
   ]
  },
  {
   "cell_type": "code",
   "execution_count": 142,
   "metadata": {
    "slideshow": {
     "slide_type": "subslide"
    }
   },
   "outputs": [
    {
     "name": "stdout",
     "output_type": "stream",
     "text": [
      "(1, 19)\n"
     ]
    },
    {
     "data": {
      "text/plain": [
       "[<matplotlib.lines.Line2D at 0x113a451d0>]"
      ]
     },
     "execution_count": 142,
     "metadata": {},
     "output_type": "execute_result"
    },
    {
     "data": {
      "image/png": "[encoded data removed]",
      "text/plain": [
       "<matplotlib.figure.Figure at 0x1a17fb9550>"
      ]
     },
     "metadata": {},
     "output_type": "display_data"
    }
   ],
   "source": [
    "# libraries\n",
    "from autograd import numpy as np\n",
    "\n",
    "# import the dataset\n",
    "csvname = 'datasets/' + 'yeast.csv'\n",
    "data = np.loadtxt(csvname,delimiter=',')\n",
    "\n",
    "# cut into input/output data\n",
    "x = data[0:-1,:]\n",
    "y = data[-1:,:]\n",
    "\n",
    "\n",
    "#Normalize input\n",
    "x=(x-np.mean(x))/np.std(x)\n",
    "\n",
    "\n",
    "w=np.array([0.1*np.random.randn(2,1),0.1*np.random.randn(2,1)])\n",
    "def model(x,w):\n",
    "    # feature transformation\n",
    "    f = feature_transforms(x,w[0])\n",
    "    # compute linear combination and return\n",
    "    a = w[1][0] + np.dot(f.T,w[1][1:]) \n",
    "    return a.T\n",
    "\n",
    "\n",
    "def feature_transforms(x,w):\n",
    "    # calculate feature transform\n",
    "    f = np.sin(w[0] + np.dot(x.T,w[1:])).T \n",
    "    return f\n",
    "\n",
    "\n",
    "def gradient_descent(g,alpha,max_its,w):\n",
    "    # compute gradient module using autograd\n",
    "    gradient = grad(g)\n",
    "\n",
    "    # run the gradient descent loop\n",
    "    weight_history = [w] # weight history container\n",
    "    cost_history = [g(w)] # cost function history container\n",
    "    for k in range(max_its):\n",
    "        # evaluate the gradient\n",
    "        grad_eval = gradient(w)\n",
    "\n",
    "        # take gradient descent step\n",
    "        w = w - alpha*grad_eval\n",
    "        \n",
    "        # record weight and cost\n",
    "        weight_history.append(w)\n",
    "        cost_history.append(g(w))\n",
    "    return weight_history,cost_history\n",
    "\n",
    "def least_squares(w):\n",
    "    cost=np.sum((model(x,w)-y)**2)\n",
    "    return cost/float(x.size)\n",
    "\n",
    "weight,cost=gradient_descent(least_squares,0.1,5000,w)\n",
    "print(model(x,weight[-1]).shape)\n",
    "\n",
    "\n",
    "\n",
    "s = np.arange(-2, 1.5, 0.01)\n",
    "t = np.arange(-2, 1.5, 0.01)\n",
    "i =0\n",
    "\n",
    "for j in s:\n",
    "    t[i] = model(j,weight[-1])\n",
    "    i = i+1\n",
    "plt.scatter(x,y,linewidth = 1,color = 'b')\n",
    "plt.plot(s,t,color = 'r')\n",
    "\n"
   ]
  },
  {
   "cell_type": "markdown",
   "metadata": {},
   "source": [
    "# Exercise 10.9: A wavy multi-output dataset"
   ]
  },
  {
   "cell_type": "code",
   "execution_count": 9,
   "metadata": {},
   "outputs": [
    {
     "name": "stdout",
     "output_type": "stream",
     "text": [
      "(300,)\n",
      "[1.99208043 3.00897444 1.030639   0.09880368]\n",
      "9\n"
     ]
    }
   ],
   "source": [
    "# libraries\n",
    "from autograd import numpy as np\n",
    "\n",
    "# import the dataset\n",
    "csvname = 'datasets/' + 'diagonal_stripes.csv'\n",
    "data = np.loadtxt(csvname,delimiter=',')\n",
    "\n",
    "# cut into input/output data\n",
    "x = data[0:-1,:]\n",
    "\n",
    "#w=np.array([1.0,1.0,1.0,1.0,1.0,1.0,1.0])\n",
    "w=np.array([1.0,1.0,1.0,1.0])\n",
    "y = data[-1:,:]\n",
    "\n",
    "\n",
    "sin1=np.sin(w[0]*x[0,:]+w[1]*x[1,:]+w[2])\n",
    "print(sin1.shape)\n",
    "def model(x,w):\n",
    "    sin1=np.sin(w[0]*x[0,:]+w[1]*x[1,:]+w[2])\n",
    "    a=w[3]+sin1\n",
    "    return a.T\n",
    "\n",
    "\n",
    "def gradient_descent(g,alpha,max_its,w):\n",
    "    # compute gradient module using autograd\n",
    "    gradient = grad(g)\n",
    "\n",
    "    # run the gradient descent loop\n",
    "    weight_history = [w] # weight history container\n",
    "    cost_history = [g(w)] # cost function history container\n",
    "    for k in range(max_its):\n",
    "        # evaluate the gradient\n",
    "        grad_eval = gradient(w)\n",
    "\n",
    "        # take gradient descent step\n",
    "        w = w - alpha*grad_eval\n",
    "        \n",
    "        # record weight and cost\n",
    "        weight_history.append(w)\n",
    "        cost_history.append(g(w))\n",
    "    return weight_history,cost_history\n",
    "\n",
    "\n",
    "def softmax(w):\n",
    "    cost = np.sum(np.log(1 + np.exp(-y*model(x,w)))) \n",
    "    return cost/float(np.size(y))\n",
    "\n",
    "weight,cost=gradient_descent(softmax,0.02,5000,w)\n",
    "\n",
    "\n",
    "prediction=[]\n",
    "result=[]\n",
    "\n",
    "for i in range(0,300):\n",
    "    prediction.append(np.sign(model(x,weight[-1])[i]))\n",
    "    result.append(y[0][i])\n",
    "    \n",
    "error=0\n",
    "for i in range(0,300):\n",
    "    if result[i]!=prediction[i]:\n",
    "        error+=1\n",
    "print(error)\n",
    "print('The number of misclassification is',error)\n",
    "print('The accuracy is', 1-error/300)\n",
    "\n"
   ]
  },
  {
   "cell_type": "code",
   "execution_count": null,
   "metadata": {
    "collapsed": true
   },
   "outputs": [],
   "source": [
    "\n"
   ]
  },
  {
   "cell_type": "code",
   "execution_count": null,
   "metadata": {
    "collapsed": true
   },
   "outputs": [],
   "source": []
  },
  {
   "cell_type": "code",
   "execution_count": null,
   "metadata": {
    "collapsed": true
   },
   "outputs": [],
   "source": []
  }
 ],
 "metadata": {
  "kernelspec": {
   "display_name": "Python 3",
   "language": "python",
   "name": "python3"
  },
  "language_info": {
   "codemirror_mode": {
    "name": "ipython",
    "version": 3
   },
   "file_extension": ".py",
   "mimetype": "text/x-python",
   "name": "python",
   "nbconvert_exporter": "python",
   "pygments_lexer": "ipython3",
   "version": "3.6.2"
  }
 },
 "nbformat": 4,
 "nbformat_minor": 2
}
