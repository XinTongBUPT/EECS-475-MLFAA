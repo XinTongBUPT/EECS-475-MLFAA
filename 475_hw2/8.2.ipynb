{
 "cells": [
  {
   "cell_type": "code",
   "execution_count": 4,
   "metadata": {},
   "outputs": [
    {
     "data": {
      "image/png": "[encoded data removed]",
      "text/plain": [
       "<Figure size 288x288 with 1 Axes>"
      ]
     },
     "metadata": {},
     "output_type": "display_data"
    }
   ],
   "source": [
    "from autograd import numpy as np\n",
    "from autograd import grad\n",
    "import matplotlib.pyplot as plt\n",
    "\n",
    "datapath = 'datasets/'\n",
    "csvname = datapath + '2d_span_data_centered.csv'\n",
    "# load in dataset\n",
    "X = np.loadtxt(csvname,delimiter = ',')\n",
    "# plot dataset\n",
    "#figure = plt.figure(figsize = (4,4))\n",
    "#plt.scatter(X[0,:],X[1,:],s=60,c='k',edgecolor='w')\n",
    "#plt.show()\n",
    "\n",
    "def square_cost(w):\n",
    "    encoder = np.dot(X.T,w)\n",
    "    #decoder = np.dot(w,encoder)\n",
    "    wp = np.dot(c,encoder.T)\n",
    "    cost = np.sum(np.square(wp - X))\n",
    "    return cost / float(X.shape[1])\n",
    "\n",
    "def gradient_descent(g,alpha,max_its,w):\n",
    "    # compute gradient module using autograd\n",
    "    gradient = grad(g)\n",
    "\n",
    "    # run the gradient descent loop\n",
    "    weight_history = [w] # weight history container\n",
    "    cost_history = [g(w)] # cost function history container\n",
    "    for k in range(max_its):\n",
    "        # evaluate the gradient\n",
    "        grad_eval = gradient(w)\n",
    "        # take gradient descent step\n",
    "        w = w - alpha*grad_eval\n",
    "        # record weight and cost\n",
    "        weight_history.append(w)\n",
    "        cost_history.append(g(w))\n",
    "    return weight_history,cost_history\n",
    "weights = np.random.rand(2,2)\n",
    "c = np.array([[2,1],[1,2]])\n",
    "\n",
    "alpha = 0.001\n",
    "max_its = 100\n",
    "weight_his,cost_his = gradient_descent(square_cost,alpha,max_its,weights)\n",
    "\n",
    "final_w = weight_his[-1]\n",
    "encoder = np.dot(X.T,final_w).T\n",
    "# plot dataset\n",
    "figure = plt.figure(figsize = (4,4))\n",
    "plt.scatter(encoder[0],encoder[1],s=60,c='r',edgecolor='w')\n",
    "plt.title(\"encoded\")\n",
    "plt.show()   "
   ]
  },
  {
   "cell_type": "code",
   "execution_count": null,
   "metadata": {
    "collapsed": true
   },
   "outputs": [],
   "source": []
  }
 ],
 "metadata": {
  "kernelspec": {
   "display_name": "Python 3",
   "language": "python",
   "name": "python3"
  },
  "language_info": {
   "codemirror_mode": {
    "name": "ipython",
    "version": 3
   },
   "file_extension": ".py",
   "mimetype": "text/x-python",
   "name": "python",
   "nbconvert_exporter": "python",
   "pygments_lexer": "ipython3",
   "version": "3.6.2"
  }
 },
 "nbformat": 4,
 "nbformat_minor": 2
}
