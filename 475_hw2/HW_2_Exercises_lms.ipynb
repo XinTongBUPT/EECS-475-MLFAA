{
 "cells": [
  {
   "cell_type": "markdown",
   "metadata": {},
   "source": [
    "Please perform the following exercises, each of which is worth $10$ points.  The instructions for most can be found at the end of the Chapter notes, however several include additional information / starter code which is provided below."
   ]
  },
  {
   "cell_type": "markdown",
   "metadata": {},
   "source": [
    " - **Chapter 7:** Exercises: 2, 3, and 5\n",
    " \n",
    " - **Chapter 8:** Exercises: 1, 2, and 4"
   ]
  },
  {
   "cell_type": "markdown",
   "metadata": {},
   "source": [
    "Note: in completing Exercises $3$ and $5$ of Chapter 7 and Exercise 5 of Chapter 8 you may want to *flatten* your cost function prior to minimizing it since both the multi-class model and the Linear Autoencoder take in a **matrix** of weights.  You can find instructinos about how to do this via `autograd` in the attached Jupyter notebook called `flattening_functions_using_autograd.ipynb`."
   ]
  },
  {
   "cell_type": "code",
   "execution_count": 411,
   "metadata": {
    "collapsed": true
   },
   "outputs": [],
   "source": [
    "# import autograd / numpy necessities\n",
    "from autograd import numpy as np\n",
    "from autograd import grad \n",
    "import math\n",
    "import matplotlib.pyplot as plt\n",
    "# set path to datasets\n",
    "datapath = '/Users/manshanlin/Downloads/machine_learning_hw2/datasets/'"
   ]
  },
  {
   "cell_type": "markdown",
   "metadata": {},
   "source": [
    "# Chapter 7 Exercise 2"
   ]
  },
  {
   "cell_type": "code",
   "execution_count": 462,
   "metadata": {},
   "outputs": [
    {
     "name": "stdout",
     "output_type": "stream",
     "text": [
      "The predicted result is [0, 0, 0, 0, 0, 0, 1, 0, 0, 0, 0, 1, 2, 1, 1, 1, 1, 1, 3, 1, 0, 1, 2, 2, 2, 2, 2, 2, 3, 3, 3, 1, 3, 3, 3, 3, 3, 3, 3, 3]\n",
      "the number of error is 9\n"
     ]
    }
   ],
   "source": [
    "# location of dataset\n",
    "import math \n",
    "from mpl_toolkits.mplot3d import Axes3D\n",
    "\n",
    "csvname = datapath + '4class_data.csv'\n",
    "data = np.loadtxt(csvname,delimiter = ',')\n",
    "w=np.array([2.0,2.0,3.0])\n",
    "# get input/output pairs\n",
    "x = data[:-1,:]\n",
    "y = data[-1:,:]\n",
    "yp=y\n",
    "\n",
    "def gradient_descent(g,alpha,max_its,w):\n",
    "    # compute gradient module using autograd\n",
    "    gradient = grad(g)\n",
    "\n",
    "    # run the gradient descent loop\n",
    "    weight_history = [w] # weight history container\n",
    "    cost_history = [g(w)] # cost function history container\n",
    "    for k in range(max_its):\n",
    "        # evaluate the gradient\n",
    "        grad_eval = gradient(w)\n",
    "\n",
    "        # take gradient descent step\n",
    "        w = w - alpha*grad_eval\n",
    "        \n",
    "        # record weight and cost\n",
    "        weight_history.append(w)\n",
    "        cost_history.append(g(w))\n",
    "    return weight_history,cost_history\n",
    "\n",
    "def model(x,w):\n",
    "    a = w[0] + np.dot(x.T,w[1:])\n",
    "    return a.T\n",
    "\n",
    "def fusion_rule(x,w):\n",
    "    return np.argmax(model(x,w))\n",
    "\n",
    "def softmax(w):\n",
    "    global yp\n",
    "    cost = np.sum(np.log(1 + np.exp(-yp*model(x,w)))) \n",
    "    return cost/float(np.size(yp))\n",
    "\n",
    "\n",
    "def least_squares(w):\n",
    "    global yp\n",
    "    cost=np.sum((model(x,w)-yp)**2)\n",
    "    return cost/float(x.size)\n",
    "\n",
    "def PerceptronCost(w):\n",
    "    global yp\n",
    "    temp=-yp*model(x,w)\n",
    "    cost=0\n",
    "    for i in range(0,len(temp[0])):\n",
    "        if temp[0][i]>0:\n",
    "            cost+=temp[0][i]\n",
    "    return cost/float(np.size(yp))\n",
    "\n",
    "\n",
    "def dealwithyp(yy,label):\n",
    "    a=np.random.randint(0, 1, (1, 40))\n",
    "    for i in range(0,len(yy[0])):\n",
    "        if yy[0][i]==label:\n",
    "            a[0][i]=1\n",
    "        else:\n",
    "            a[0][i]=-1\n",
    "    return a\n",
    "\n",
    "\n",
    "WeightDic={}\n",
    "CostDic={}\n",
    "\n",
    "\n",
    "\n",
    "for i in range(0,4):\n",
    "    yp=dealwithyp(y,i)\n",
    "    w1,CostDic[i]=gradient_descent(softmax,0.1,1000,w)\n",
    "    WeightDic[i]=w1[-1]\n",
    "\n",
    "\n",
    "\n",
    "www=np.array([WeightDic[0],WeightDic[1],WeightDic[2],WeightDic[3]])\n",
    "\n",
    "\n",
    "\n",
    "\n",
    "result=[]\n",
    "for i in range(0,40):\n",
    "    result.append(fusion_rule(x[:,i],www.T))\n",
    "print('The predicted result is',result)\n",
    "\n",
    "error=0\n",
    "for i in range(0,40):\n",
    "    if result[i]!=y[0][i]:\n",
    "        error+=1\n",
    "    \n",
    "print('the number of error is',error)\n",
    "\n",
    "\n",
    "\n",
    "\n",
    "\n",
    "\n",
    "\n",
    "\n"
   ]
  },
  {
   "cell_type": "code",
   "execution_count": 413,
   "metadata": {},
   "outputs": [
    {
     "name": "stdout",
     "output_type": "stream",
     "text": [
      "[[0. 0. 0. 0. 0. 0. 0. 0. 0. 0. 1. 1. 1. 1. 1. 1. 1. 1. 1. 1. 2. 2. 2. 2.\n",
      "  2. 2. 2. 2. 2. 2. 3. 3. 3. 3. 3. 3. 3. 3. 3. 3.]]\n"
     ]
    }
   ],
   "source": [
    "print (y)"
   ]
  },
  {
   "cell_type": "markdown",
   "metadata": {},
   "source": [
    "# Chapter 7 Exercise 3 and 5"
   ]
  },
  {
   "cell_type": "code",
   "execution_count": 468,
   "metadata": {},
   "outputs": [
    {
     "name": "stdout",
     "output_type": "stream",
     "text": [
      "the predicted result is \n",
      "[0, 0, 0, 0, 0, 0, 0, 0, 0, 0, 1, 1, 1, 1, 1, 1, 1, 1, 1, 1, 2, 2, 2, 2, 2, 2, 2, 2, 2, 2]\n",
      "The number of error is 0\n",
      "\n",
      "\n",
      "the predicted result is\n",
      "[0, 0, 0, 0, 0, 0, 1, 0, 1, 0, 0, 1, 2, 1, 1, 1, 1, 1, 3, 1, 0, 1, 2, 2, 2, 2, 2, 2, 2, 3, 3, 1, 3, 3, 3, 3, 3, 3, 3, 3]\n",
      "The number of error is 9\n"
     ]
    }
   ],
   "source": [
    "# location of dataset\n",
    "\n",
    "from autograd.misc.flatten import flatten_func\n",
    "csvname = datapath + '3class_data.csv'\n",
    "data = np.loadtxt(csvname,delimiter = ',')\n",
    "\n",
    "# get input/output pairs\n",
    "x = data[:-1,:]\n",
    "y = data[-1:,:] \n",
    "w=np.array([[2.0,2.0,3.0],[2.0,2.0,3.0],[2.0,2.0,3.0]])\n",
    "\n",
    "def model(x,w):\n",
    "    a = w[0] + np.dot(x.T,w[1:])\n",
    "    return a.T\n",
    "lam = 10**-5  # our regularization paramter \n",
    "\n",
    "def multiclass_perceptron(w):        \n",
    "    # pre-compute predictions on all points\n",
    "    all_evals = model(x,w)\n",
    "    # compute maximum across data points\n",
    "    a = np.max(all_evals,axis = 0)    \n",
    "    # compute cost in compact form using numpy broadcasting\n",
    "    b = all_evals[y.astype(int).flatten(),np.arange(np.size(y))]\n",
    "    cost = np.sum(a - b)\n",
    "\n",
    "    # return average\n",
    "    return cost/float(np.size(y))\n",
    "\n",
    "\n",
    "weight,cost=gradient_descent(multiclass_perceptron,0.1,1000,w)\n",
    "\n",
    "\n",
    "\n",
    "def fusion_rule(x,w):\n",
    "    return np.argmax(model(x,w))\n",
    "\n",
    "result=[]\n",
    "for i in range(0,30):\n",
    "    result.append(fusion_rule(x[:,i],weight[-1]))\n",
    "print('the predicted result is ')\n",
    "print(result)\n",
    "\n",
    "error=0\n",
    "for i in range(0,30):\n",
    "    if result[i]!=y[0][i]:\n",
    "        error+=1\n",
    "print('The number of error is',error)\n",
    "\n",
    "\n",
    "\n",
    "#EX5\n",
    "csvname = datapath + '4class_data.csv'\n",
    "data = np.loadtxt(csvname,delimiter = ',')\n",
    "w=np.array([[2.0,2.0,3.0,1.0],[2.0,2.0,3.0,1.0],[2.0,2.0,3.0,1.0]])\n",
    "# get input/output pairs\n",
    "x = data[:-1,:]\n",
    "y = data[-1:,:] \n",
    "\n",
    "\n",
    "lam = 10**(-5)  # our regularization paramter \n",
    "def multiclass_softmax(w):        \n",
    "    # pre-compute predictions on all points\n",
    "    all_evals = model(x,w)\n",
    "    \n",
    "    # compute softmax across data points\n",
    "    a = np.log(np.sum(np.exp(all_evals),axis = 0)) \n",
    "    \n",
    "    # compute cost in compact form using numpy broadcasting\n",
    "    b = all_evals[y.astype(int).flatten(),np.arange(np.size(y))]\n",
    "    cost = np.sum(a - b)\n",
    "    \n",
    "    # add regularizer\n",
    "    cost = cost + lam*np.linalg.norm(w[1:,:],'fro')**2\n",
    "    \n",
    "    # return average\n",
    "    return cost/float(np.size(y))\n",
    "\n",
    "\n",
    "weight,cost=gradient_descent(multiclass_softmax,0.1,1000,w)\n",
    "\n",
    "\n",
    "def fusion_rule(x,w):\n",
    "    return np.argmax(model(x,w))\n",
    "\n",
    "result=[]\n",
    "for i in range(0,40):\n",
    "    result.append(fusion_rule(x[:,i],weight[-1]))\n",
    "print('\\n')\n",
    "print('the predicted result is')\n",
    "print(result)\n",
    "\n",
    "error=0\n",
    "for i in range(0,40):\n",
    "    if result[i]!=y[0][i]:\n",
    "        error+=1\n",
    "print('The number of error is',error)\n",
    "\n",
    "\n",
    "\n",
    "\n",
    "\n",
    "\n",
    "\n",
    "\n",
    "\n",
    "\n",
    "\n",
    "\n",
    "\n"
   ]
  },
  {
   "cell_type": "code",
   "execution_count": null,
   "metadata": {
    "collapsed": true
   },
   "outputs": [],
   "source": [
    "print (y)"
   ]
  },
  {
   "cell_type": "code",
   "execution_count": 470,
   "metadata": {},
   "outputs": [
    {
     "name": "stdout",
     "output_type": "stream",
     "text": [
      "The Formula after simplified is W_p=X_p\n"
     ]
    }
   ],
   "source": [
    "#Chapter8 Exercise1\n",
    "print('The Formula after simplified is W_p=X_p')"
   ]
  },
  {
   "cell_type": "markdown",
   "metadata": {},
   "source": [
    "# Chapter 8 Exercise 2 and 4"
   ]
  },
  {
   "cell_type": "code",
   "execution_count": 471,
   "metadata": {
    "collapsed": true
   },
   "outputs": [],
   "source": [
    "import matplotlib.pyplot as plt\n",
    "import numpy as np1"
   ]
  },
  {
   "cell_type": "code",
   "execution_count": 472,
   "metadata": {},
   "outputs": [
    {
     "name": "stdout",
     "output_type": "stream",
     "text": [
      "The plots of Exercise 2 are as follows:\n"
     ]
    },
    {
     "data": {
      "image/png": "[encoded data removed]",
      "text/plain": [
       "<matplotlib.figure.Figure at 0x11e5795f8>"
      ]
     },
     "metadata": {},
     "output_type": "display_data"
    },
    {
     "data": {
      "image/png": "[encoded data removed]",
      "text/plain": [
       "<matplotlib.figure.Figure at 0x11dd454a8>"
      ]
     },
     "metadata": {},
     "output_type": "display_data"
    },
    {
     "name": "stdout",
     "output_type": "stream",
     "text": [
      "The plots of Exercise 4 are as follows:\n",
      "[-0.94841646  0.89405383]\n"
     ]
    },
    {
     "data": {
      "image/png": "[encoded data removed]",
      "text/plain": [
       "<matplotlib.figure.Figure at 0x11daa46d8>"
      ]
     },
     "metadata": {},
     "output_type": "display_data"
    },
    {
     "data": {
      "image/png": "[encoded data removed]",
      "text/plain": [
       "<matplotlib.figure.Figure at 0x11dc49710>"
      ]
     },
     "metadata": {},
     "output_type": "display_data"
    }
   ],
   "source": [
    "# location of dataset\n",
    "csvname = datapath + '2d_span_data_centered.csv'\n",
    "\n",
    "# load in dataset\n",
    "X = np.loadtxt(csvname,delimiter = ',')\n",
    "x=X\n",
    "# plot dataset\n",
    "figure = plt.figure(figsize = (4,4))\n",
    "plt.scatter(X[0,:],X[1,:],s=60,c='k',edgecolor='w')\n",
    "\n",
    "print('The plots of Exercise 2 are as follows:')\n",
    "\n",
    "plt.arrow(0, 0, 1, 2, length_includes_head=True, head_width=0.3,color='r')\n",
    "plt.arrow(0, 0, 2, 1, length_includes_head=True, head_width=0.3,color='r')\n",
    "\n",
    "plt.show()\n",
    "#Execrcise2:\n",
    "\n",
    "def costFunc(w):\n",
    "    cost=0\n",
    "    for i in range(0,len(x[0])):\n",
    "        temp=np.dot(C,w[:,i])-x[:,i]\n",
    "        sum=0\n",
    "        for j in temp:\n",
    "            sum+=j*j\n",
    "        cost+=sum\n",
    "\n",
    "    return cost/float(x.size)\n",
    "    \n",
    "C=np.array([[1,2],[2,1]])\n",
    "w=np.zeros((2,x.size))\n",
    "w+=1\n",
    "\n",
    "weight,cost=gradient_descent(costFunc,0.1,1000,w)\n",
    "\n",
    "\n",
    "\n",
    "\n",
    "Prediction=X\n",
    "for i in range(0,len(Prediction[0])):\n",
    "    Prediction[:,i]=weight[-1][:,i]\n",
    "\n",
    "\n",
    "figure = plt.figure(figsize = (4,4))\n",
    "plt.scatter(Prediction[0,:],Prediction[1,:],s=60,c='k',edgecolor='w')\n",
    "plt.arrow(0, 0, 1, 0, length_includes_head=True, head_width=0.2,color='r')\n",
    "plt.arrow(0, 0, 0, 1, length_includes_head=True, head_width=0.2,color='r')    \n",
    "plt.show()\n",
    "\n",
    "#print(np.dot(C*C.T,X[:,1]))\n",
    "\n",
    "\n",
    "#print(C*C.T*X[:,1]-X[:,1])\n",
    "#print(X[:,1])\n",
    "\n",
    "\n",
    "\n",
    "\n",
    "#Exercise4\n",
    "C=np.array([1.0,1.0])\n",
    "TT=np.dot(np.dot(C.T, C), X[:,1])\n",
    "print('The plots of Exercise 4 are as follows:')\n",
    "\n",
    "def cF(C):\n",
    "    cost=0\n",
    "    for i in range(0,len(x[0])):\n",
    "        temp=np.dot(C.T,x[:,i])\n",
    "        temp=np.dot(C,temp)\n",
    "        temp-=x[:,i]\n",
    "        sum=0\n",
    "        for j in temp:\n",
    "            sum+=j*j\n",
    "        cost+=sum\n",
    "\n",
    "    return cost/float(x.size)\n",
    "\n",
    "def gradient_descent(g,alpha,max_its,w):\n",
    "    # compute gradient module using autograd\n",
    "    gradient = grad(g)\n",
    "\n",
    "    # run the gradient descent loop\n",
    "    weight_history = [w] # weight history container\n",
    "    cost_history = [g(w)] # cost function history container\n",
    "    for k in range(max_its):\n",
    "        # evaluate the gradient\n",
    "        grad_eval = gradient(w)\n",
    "\n",
    "        # take gradient descent step\n",
    "        w = w - alpha*grad_eval\n",
    "        \n",
    "        # record weight and cost\n",
    "        weight_history.append(w)\n",
    "        cost_history.append(g(w))\n",
    "    return weight_history,cost_history\n",
    "\n",
    "CCC,cost=gradient_descent(cF,0.1,200,C)\n",
    "print(CCC[-1])\n",
    "prediction=X\n",
    "for i in range(0,len(prediction[0])):\n",
    "    temp=np.dot(CCC[-1].T,x[:,i])\n",
    "    temp=np.dot(CCC[-1],temp)\n",
    "    prediction[:,i]=temp\n",
    "\n",
    "figure = plt.figure(figsize = (4,4))\n",
    "plt.scatter(prediction[0,:],prediction[1,:],s=60,c='k',edgecolor='w')\n",
    "plt.arrow(0, 0, CCC[-1][0]*1000, CCC[-1][1]*1000,head_width=0.2,color='r')\n",
    "plt.arrow(0, 0, CCC[-1][0]*-1000, CCC[-1][1]*-1000,head_width=0.2,color='r')\n",
    "plt.show()\n",
    "\n",
    "\n",
    "prediction[1]=0\n",
    "figure = plt.figure(figsize = (4,4))\n",
    "plt.scatter(prediction[0,:],prediction[1,:],s=60,c='k',edgecolor='w')\n",
    "plt.show()\n",
    "\n",
    "\n",
    "\n",
    "\n",
    "\n",
    "\n",
    "\n",
    "\n",
    "\n",
    "\n",
    "\n"
   ]
  },
  {
   "cell_type": "code",
   "execution_count": null,
   "metadata": {
    "collapsed": true
   },
   "outputs": [],
   "source": []
  },
  {
   "cell_type": "code",
   "execution_count": null,
   "metadata": {
    "collapsed": true
   },
   "outputs": [],
   "source": []
  }
 ],
 "metadata": {
  "kernelspec": {
   "display_name": "Python 3",
   "language": "python",
   "name": "python3"
  },
  "language_info": {
   "codemirror_mode": {
    "name": "ipython",
    "version": 3
   },
   "file_extension": ".py",
   "mimetype": "text/x-python",
   "name": "python",
   "nbconvert_exporter": "python",
   "pygments_lexer": "ipython3",
   "version": "3.6.2"
  }
 },
 "nbformat": 4,
 "nbformat_minor": 2
}
