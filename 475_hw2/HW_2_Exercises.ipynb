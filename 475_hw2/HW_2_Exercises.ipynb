{
 "cells": [
  {
   "cell_type": "markdown",
   "metadata": {},
   "source": [
    "Please perform the following exercises, each of which is worth $10$ points.  The instructions for most can be found at the end of the Chapter notes, however several include additional information / starter code which is provided below."
   ]
  },
  {
   "cell_type": "markdown",
   "metadata": {},
   "source": [
    " - **Chapter 7:** Exercises: 2, 3, and 5\n",
    " \n",
    " - **Chapter 8:** Exercises: 1, 2, and 4"
   ]
  },
  {
   "cell_type": "markdown",
   "metadata": {},
   "source": [
    "Note: in completing Exercises $3$ and $5$ of Chapter 7 and Exercise 5 of Chapter 8 you may want to *flatten* your cost function prior to minimizing it since both the multi-class model and the Linear Autoencoder take in a **matrix** of weights.  You can find instructinos about how to do this via `autograd` in the attached Jupyter notebook called `flattening_functions_using_autograd.ipynb`."
   ]
  },
  {
   "cell_type": "code",
   "execution_count": 2,
   "metadata": {
    "collapsed": true
   },
   "outputs": [],
   "source": [
    "# import autograd / numpy necessities\n",
    "from autograd import numpy as np\n",
    "import math\n",
    "import matplotlib.pyplot as plt\n",
    "from autograd import grad \n",
    "\n",
    "# set path to datasets\n",
    "datapath = 'datasets/'"
   ]
  },
  {
   "cell_type": "markdown",
   "metadata": {},
   "source": [
    "# Chapter 7 Exercise 2"
   ]
  },
  {
   "cell_type": "code",
   "execution_count": 29,
   "metadata": {
    "scrolled": true
   },
   "outputs": [
    {
     "name": "stdout",
     "output_type": "stream",
     "text": [
      "the number of misclassification is: 9\n"
     ]
    }
   ],
   "source": [
    "# location of dataset\n",
    "import math \n",
    "from mpl_toolkits.mplot3d import Axes3D\n",
    "\n",
    "csvname = datapath + '4class_data.csv'\n",
    "data = np.loadtxt(csvname,delimiter = ',')\n",
    "w=np.array([3.0,3.0,3.0])\n",
    "# get input/output pairs\n",
    "x = data[:-1,:]\n",
    "y = data[-1:,:]\n",
    "yp=y\n",
    "mis=0\n",
    "# gradient descent function \n",
    "# g = variables(NDArray or list of NDArray) – Input variables to compute gradients for.\n",
    "# alpha, 学习速率，自定\n",
    "# w = [theta0, theta1]，待求的权值，取the last one\n",
    "# max_its，最大迭代次数，自定\n",
    "def gradient_descent(g,alpha,max_its,w):\n",
    "    # compute gradient module using autograd\n",
    "    gradient = grad(g)\n",
    "\n",
    "    # run the gradient descent loop\n",
    "    weight_history = [w] # weight history container\n",
    "    cost_history = [g(w)] # cost function history container\n",
    "    for k in range(max_its):\n",
    "        # evaluate the gradient\n",
    "        grad_eval = gradient(w)\n",
    "\n",
    "        # take gradient descent step\n",
    "        w = w - alpha*grad_eval\n",
    "        \n",
    "        # record weight and cost\n",
    "        weight_history.append(w)\n",
    "        cost_history.append(g(w))\n",
    "    return weight_history,cost_history\n",
    "    #h(x) = theta0 + theta1*x\n",
    "\n",
    "def model(x,w):\n",
    "    a = w[0] + np.dot(x.T,w[1:])\n",
    "    return a.T\n",
    "\n",
    "def fusion_rule(x,w):\n",
    "    return np.argmax(model(x,w))\n",
    "\n",
    "def softmax(w):\n",
    "    global yp\n",
    "    cost = np.sum(np.log(1 + np.exp(-yp*model(x,w)))) \n",
    "    return cost/float(np.size(yp))\n",
    "\n",
    "def label(y,c):\n",
    "    y2=np.random.randint(0, 1, (1, 40))\n",
    "    for i in range(0,len(y[0])):\n",
    "        if y[0][i]== c:\n",
    "            y2[0][i]=1\n",
    "        else:\n",
    "            y2[0][i]=-1\n",
    "    return y2\n",
    "\n",
    "w_his={}\n",
    "c_his={}\n",
    "\n",
    "for i in range(0,4):\n",
    "    yp=label(y,i)\n",
    "    temp,c_his[i]=gradient_descent(softmax,0.02,1900,w)\n",
    "    w_his[i]=temp[-1]\n",
    "\n",
    "w_his=np.array([w_his[0],w_his[1],w_his[2],w_his[3]])\n",
    "\n",
    "y_predicted=[]\n",
    "for i in range(0,40):\n",
    "    y_predicted.append(fusion_rule(x[:,i],w_his.T))\n",
    "#print(y_predicted)\n",
    "\n",
    "\n",
    "for i in range(0,40):\n",
    "    if y_predicted[i]!=y[0][i]:\n",
    "        mis+=1\n",
    "print(\"the number of misclassification is:\", mis)"
   ]
  },
  {
   "cell_type": "code",
   "execution_count": 30,
   "metadata": {},
   "outputs": [
    {
     "name": "stdout",
     "output_type": "stream",
     "text": [
      "[[ 0.  0.  0.  0.  0.  0.  0.  0.  0.  0.  1.  1.  1.  1.  1.  1.  1.  1.\n",
      "   1.  1.  2.  2.  2.  2.  2.  2.  2.  2.  2.  2.  3.  3.  3.  3.  3.  3.\n",
      "   3.  3.  3.  3.]]\n"
     ]
    }
   ],
   "source": [
    "print (y)"
   ]
  },
  {
   "cell_type": "markdown",
   "metadata": {},
   "source": [
    "# Chapter 7 Exercise 3 and 5"
   ]
  },
  {
   "cell_type": "code",
   "execution_count": 31,
   "metadata": {},
   "outputs": [
    {
     "name": "stdout",
     "output_type": "stream",
     "text": [
      "[0, 0, 0, 0, 0, 0, 0, 0, 0, 0, 1, 1, 1, 1, 1, 1, 1, 1, 1, 1, 2, 2, 2, 2, 2, 2, 2, 2, 2, 2]\n",
      "the number of misclassification is: 0\n",
      "Excercise 5\n",
      "[0, 0, 0, 0, 0, 0, 1, 2, 0, 0, 0, 1, 1, 1, 1, 1, 1, 1, 3, 1, 0, 1, 2, 2, 2, 2, 2, 2, 2, 3, 2, 1, 3, 3, 3, 3, 3, 3, 3, 3]\n",
      "the number of misclassification is: 9\n"
     ]
    }
   ],
   "source": [
    "# location of dataset\n",
    "\n",
    "from autograd.misc.flatten import flatten_func\n",
    "csvname = datapath + '3class_data.csv'\n",
    "data = np.loadtxt(csvname,delimiter = ',')\n",
    "\n",
    "# get input/output pairs\n",
    "x = data[:-1,:]\n",
    "y = data[-1:,:] \n",
    "w=np.array([[2.0,2.0,2.0],[2.0,2.0,2.0],[2.0,2.0,2.0]])\n",
    "\n",
    "def model(x,w):\n",
    "    a = w[0] + np.dot(x.T,w[1:])\n",
    "    return a.T\n",
    "\n",
    "def gradient_descent(g,alpha,max_its,w):\n",
    "    # compute gradient module using autograd\n",
    "    gradient = grad(g)\n",
    "\n",
    "    # run the gradient descent loop\n",
    "    weight_history = [w] # weight history container\n",
    "    cost_history = [g(w)] # cost function history container\n",
    "    for k in range(max_its):\n",
    "        # evaluate the gradient\n",
    "        grad_eval = gradient(w)\n",
    "\n",
    "        # take gradient descent step\n",
    "        w = w - alpha*grad_eval\n",
    "        \n",
    "        # record weight and cost\n",
    "        weight_history.append(w)\n",
    "        cost_history.append(g(w))\n",
    "    return weight_history,cost_history\n",
    "    #h(x) = theta0 + theta1*x\n",
    "\n",
    "def fusion_rule(x,w):\n",
    "    return np.argmax(model(x,w))\n",
    "\n",
    "lam = 10**-5  # our regularization paramter \n",
    "def multiclass_perceptron(w):        \n",
    "    # pre-compute predictions on all points\n",
    "    all_evals = model(x,w)\n",
    "    # compute maximum across data points\n",
    "    a = np.max(all_evals,axis = 0)    \n",
    "    # compute cost in compact form using numpy broadcasting\n",
    "    b = all_evals[y.astype(int).flatten(),np.arange(np.size(y))]\n",
    "    cost = np.sum(a - b)\n",
    "    # return average\n",
    "    return cost/float(np.size(y))\n",
    "\n",
    "\n",
    "w_his,c_his=gradient_descent(multiclass_perceptron,0.1,1000,w)\n",
    "ans=[]\n",
    "\n",
    "for i in range(0,30):\n",
    "    ans.append(fusion_rule(x[:,i],w_his[-1]))\n",
    "print(ans)\n",
    "\n",
    "misnum=0\n",
    "for i in range(0,30):\n",
    "    if ans[i]!=y[0][i]:\n",
    "        misnum+=1\n",
    "print(\"the number of misclassification is:\", misnum)\n",
    "\n",
    "\n",
    "\n",
    "#Exercise5\n",
    "csvname = datapath + '4class_data.csv'\n",
    "data = np.loadtxt(csvname,delimiter = ',')\n",
    "w=np.array([[2.0,1.0,1.0,3.0],[2.0,1.0,1.0,3.0],[2.0,1.0,1.0,3.0]])\n",
    "\n",
    "# get input/output pairs\n",
    "x = data[:-1,:]\n",
    "y = data[-1:,:] \n",
    "\n",
    "def fusion_rule(x,w):\n",
    "    return np.argmax(model(x,w))\n",
    "\n",
    "lam = 10**(-5)  # our regularization paramter \n",
    "def multiclass_softmax(w):        \n",
    "    # pre-compute predictions on all points\n",
    "    all_evals = model(x,w)\n",
    "    \n",
    "    # compute softmax across data points\n",
    "    a = np.log(np.sum(np.exp(all_evals),axis = 0)) \n",
    "    \n",
    "    # compute cost in compact form using numpy broadcasting\n",
    "    b = all_evals[y.astype(int).flatten(),np.arange(np.size(y))]\n",
    "    cost = np.sum(a - b)\n",
    "    \n",
    "    # add regularizer\n",
    "    cost = cost + lam*np.linalg.norm(w[1:,:],'fro')**2\n",
    "    \n",
    "    # return average\n",
    "    return cost/float(np.size(y))\n",
    "\n",
    "\n",
    "w_his,c_his=gradient_descent(multiclass_softmax,0.1,1000,w)\n",
    "ans=[]\n",
    "\n",
    "print(\"Excercise 5\")\n",
    "for i in range(0,40):\n",
    "    ans.append(fusion_rule(x[:,i],w_his[-1]))\n",
    "print(ans)\n",
    "\n",
    "mis=0\n",
    "for i in range(0,40):\n",
    "    if ans[i]!=y[0][i]:\n",
    "        mis+=1\n",
    "print(\"the number of misclassification is:\", mis)"
   ]
  },
  {
   "cell_type": "code",
   "execution_count": 32,
   "metadata": {},
   "outputs": [
    {
     "name": "stdout",
     "output_type": "stream",
     "text": [
      "[[ 0.  0.  0.  0.  0.  0.  0.  0.  0.  0.  1.  1.  1.  1.  1.  1.  1.  1.\n",
      "   1.  1.  2.  2.  2.  2.  2.  2.  2.  2.  2.  2.  3.  3.  3.  3.  3.  3.\n",
      "   3.  3.  3.  3.]]\n"
     ]
    }
   ],
   "source": [
    "print (y)"
   ]
  },
  {
   "cell_type": "markdown",
   "metadata": {},
   "source": [
    "# Chapter 8 Exercise 1"
   ]
  },
  {
   "cell_type": "markdown",
   "metadata": {},
   "source": [
    "The Formula after simplified is W_p=X_p\n",
    "If we use the standard basis vectors as the basis, which was denoted as $C$ in the above chapters. We could easily calculate that $C = C^T = I_{N*N}$.\n",
    "In such case, $w_p = C^Tx_p  (p = 1,2,...,P)$ could be formulated as $w_p = x_p   (p = 1,2,...,P)$"
   ]
  },
  {
   "cell_type": "markdown",
   "metadata": {},
   "source": [
    "# Chapter 8 Exercise 2 and 4"
   ]
  },
  {
   "cell_type": "code",
   "execution_count": 33,
   "metadata": {
    "collapsed": true
   },
   "outputs": [],
   "source": [
    "import matplotlib.pyplot as plt\n",
    "import numpy as np1"
   ]
  },
  {
   "cell_type": "code",
   "execution_count": 34,
   "metadata": {},
   "outputs": [
    {
     "data": {
      "image/png": "[encoded data removed]",
      "text/plain": [
       "<matplotlib.figure.Figure at 0x1124bbb70>"
      ]
     },
     "metadata": {},
     "output_type": "display_data"
    },
    {
     "data": {
      "image/png": "[encoded data removed]",
      "text/plain": [
       "<matplotlib.figure.Figure at 0x11203deb8>"
      ]
     },
     "metadata": {},
     "output_type": "display_data"
    }
   ],
   "source": [
    "#Exercise 2\n",
    "datapath = 'datasets/'\n",
    "csvname = datapath + '2d_span_data_centered.csv'\n",
    "# load in dataset\n",
    "X = np.loadtxt(csvname,delimiter = ',')\n",
    "figure = plt.figure(figsize = (4,4))\n",
    "plt.scatter(X[0,:],X[1,:],s=60,c='b',edgecolor='w')\n",
    "plt.arrow(0, 0, 1, 2, length_includes_head=True, head_width=0.3,color='r')\n",
    "plt.arrow(0, 0, 2, 1, length_includes_head=True, head_width=0.3,color='r')\n",
    "plt.show()\n",
    "\n",
    "def square_cost(w):\n",
    "    encoder = np.dot(w.T,X)\n",
    "    decoder = np.dot(w,encoder)\n",
    "    cost = np.sum(np.square(decoder - X))\n",
    "    return cost / float(X.shape[1])\n",
    "\n",
    "def gradient_descent(g,alpha,max_its,w):\n",
    "    # compute gradient module using autograd\n",
    "    gradient = grad(g)\n",
    "\n",
    "    # run the gradient descent loop\n",
    "    weight_history = [w] # weight history container\n",
    "    cost_history = [g(w)] # cost function history container\n",
    "    for k in range(max_its):\n",
    "        # evaluate the gradient\n",
    "        grad_eval = gradient(w)\n",
    "\n",
    "        # take gradient descent step\n",
    "        w = w - alpha*grad_eval\n",
    "        \n",
    "        # record weight and cost\n",
    "        weight_history.append(w)\n",
    "        cost_history.append(g(w))\n",
    "    return weight_history,cost_history\n",
    "    #h(x) = theta0 + theta1*x\n",
    "\n",
    "w_his,c_his = gradient_descent(square_cost,0.001,100,np.random.rand(2,2))\n",
    "\n",
    "w = w_his[-1]\n",
    "encoder = np.dot(X.T,w).T\n",
    "# plot dataset\n",
    "figure = plt.figure(figsize = (4,4))\n",
    "plt.scatter(encoder[0],encoder[1],s=60,c='b',edgecolor='w')\n",
    "plt.arrow(0, 0, 1, 0, length_includes_head=True, head_width=0.2,color='r')\n",
    "plt.arrow(0, 0, 0, 1, length_includes_head=True, head_width=0.2,color='r')  \n",
    "plt.show()  "
   ]
  },
  {
   "cell_type": "code",
   "execution_count": 4,
   "metadata": {},
   "outputs": [
    {
     "data": {
      "image/png": "[encoded data removed]",
      "text/plain": [
       "<matplotlib.figure.Figure at 0x10a3b9c18>"
      ]
     },
     "metadata": {},
     "output_type": "display_data"
    },
    {
     "data": {
      "image/png": "[encoded data removed]",
      "text/plain": [
       "<matplotlib.figure.Figure at 0x10d6cb898>"
      ]
     },
     "metadata": {},
     "output_type": "display_data"
    }
   ],
   "source": [
    "#Exercise 4\n",
    "datapath = 'datasets/'\n",
    "csvname = datapath + '2d_span_data_centered.csv'\n",
    "# load in dataset\n",
    "X = np.loadtxt(csvname,delimiter = ',')\n",
    "\n",
    "def square_cost(w):\n",
    "    encoder = np.dot(w.T,X)\n",
    "    decoder = np.dot(w,encoder)\n",
    "    cost = np.sum(np.square(decoder - X))\n",
    "    return cost / float(X.shape[1])\n",
    "\n",
    "def gradient_descent(g,alpha,max_its,w):\n",
    "    # compute gradient module using autograd\n",
    "    gradient = grad(g)\n",
    "\n",
    "    # run the gradient descent loop\n",
    "    weight_history = [w] # weight history container\n",
    "    cost_history = [g(w)] # cost function history container\n",
    "    for k in range(max_its):\n",
    "        # evaluate the gradient\n",
    "        grad_eval = gradient(w)\n",
    "\n",
    "        # take gradient descent step\n",
    "        w = w - alpha*grad_eval\n",
    "        \n",
    "        # record weight and cost\n",
    "        weight_history.append(w)\n",
    "        cost_history.append(g(w))\n",
    "    return weight_history,cost_history\n",
    "    #h(x) = theta0 + theta1*x\n",
    "\n",
    "w_his,c_his = gradient_descent(square_cost,0.01,1000,np.array([[-1],[-1]]))\n",
    "w = w_his[-1]\n",
    "encoder = np.dot(w.T,X)\n",
    "decoder = np.dot(w,encoder)\n",
    "\n",
    "\n",
    "figure = plt.figure(figsize = (4,1))\n",
    "plt.scatter(encoder[0],[0 for i in range(50)],s=60,c='b',edgecolor='w')\n",
    "plt.title('encoded data')\n",
    "plt.xlabel('x1')\n",
    "plt.show()\n",
    "\n",
    "\n",
    "figure = plt.figure(figsize = (4,4))\n",
    "plt.scatter(decoder[0],decoder[1],s=60,c='b',edgecolor='w')\n",
    "plt.xlabel('x1')\n",
    "plt.ylabel('x2')\n",
    "plt.title('decoded data')\n",
    "plt.show()"
   ]
  },
  {
   "cell_type": "code",
   "execution_count": 7,
   "metadata": {},
   "outputs": [
    {
     "data": {
      "image/png": "[encoded data removed]",
      "text/plain": [
       "<matplotlib.figure.Figure at 0x10a54f860>"
      ]
     },
     "metadata": {},
     "output_type": "display_data"
    },
    {
     "name": "stdout",
     "output_type": "stream",
     "text": [
      "From the pic we can see there are two global minimaa.\n"
     ]
    }
   ],
   "source": [
    "from mpl_toolkits.mplot3d import Axes3D\n",
    "def fun(C):\n",
    "    return np.sum((np.dot(np.dot(C,C.T),X) - X)**2)/float(len(X[0]))\n",
    "\n",
    "\n",
    "c_0 = np.linspace(-5,5,200)\n",
    "c_1 = np.linspace(-5,5,200)\n",
    "c0,c1 = np.meshgrid(c_0,c_1)\n",
    "\n",
    "result = np.zeros(shape=(c0.shape[0],c0.shape[1]))\n",
    "for i in range(c0.shape[0]):\n",
    "    for j in range(c0.shape[1]):\n",
    "        c = np.array([[c0[i][j]], [c1[i][j]]])\n",
    "        result[i][j] = fun(c)\n",
    "\n",
    "plt.figure(figsize = (10,6))\n",
    "plt.contour(c0,c1,result,[1,2,5,10,100,2000,5000,10000,20000])\n",
    "plt.show()\n",
    "print('From the pic we can see there are two global minimaa.')"
   ]
  },
  {
   "cell_type": "code",
   "execution_count": null,
   "metadata": {
    "collapsed": true
   },
   "outputs": [],
   "source": []
  }
 ],
 "metadata": {
  "kernelspec": {
   "display_name": "Python 3",
   "language": "python",
   "name": "python3"
  },
  "language_info": {
   "codemirror_mode": {
    "name": "ipython",
    "version": 3
   },
   "file_extension": ".py",
   "mimetype": "text/x-python",
   "name": "python",
   "nbconvert_exporter": "python",
   "pygments_lexer": "ipython3",
   "version": "3.6.2"
  }
 },
 "nbformat": 4,
 "nbformat_minor": 2
}
